{
 "cells": [
  {
   "cell_type": "code",
   "execution_count": 1,
   "id": "8ffa5809",
   "metadata": {},
   "outputs": [],
   "source": [
    "import sys\n",
    "import traceback"
   ]
  },
  {
   "cell_type": "code",
   "execution_count": 9,
   "id": "64b87268",
   "metadata": {},
   "outputs": [],
   "source": [
    "from logger.custom_logger import CustomLogger\n",
    "\n",
    "logger = CustomLogger().get_logger(\"exception in notebook\")\n"
   ]
  },
  {
   "cell_type": "code",
   "execution_count": 4,
   "id": "185354c2",
   "metadata": {},
   "outputs": [],
   "source": [
    "class DocumentPortalException(Exception):\n",
    "    def __init__(self, error_message, error_details:sys):\n",
    "        _,_,err_details = error_details.exc_info()\n",
    "        self.filename = err_details.tb_frame.f_code.co_filename\n",
    "        self.lineno = err_details.tb_lineno\n",
    "        self.error_message = str(error_message)\n",
    "        self.traceback_str = ''.join(traceback.format_exception(*error_details.exc_info()))\n",
    "    \n",
    "    def __str__(self):\n",
    "        return f\"\"\" \n",
    "            ERROR in [{self.filename}] at line [{self.lineno}]\n",
    "            Message: {self.error_message}\n",
    "            Traceback:\n",
    "            {self.traceback_str}\n",
    "            \"\"\"\n",
    "        "
   ]
  },
  {
   "cell_type": "code",
   "execution_count": 10,
   "id": "3f17f53f",
   "metadata": {},
   "outputs": [
    {
     "ename": "DocumentPortalException",
     "evalue": " \n            ERROR in [C:\\Users\\KoteswaraRao.Pentyal\\AppData\\Local\\Temp\\ipykernel_20952\\2394279151.py] at line [3]\n            Message: division by zero\n            Traceback:\n            Traceback (most recent call last):\n  File \"C:\\Users\\KoteswaraRao.Pentyal\\AppData\\Local\\Temp\\ipykernel_20952\\2394279151.py\", line 3, in <module>\n    a=1/0\n      ~^~\nZeroDivisionError: division by zero\n\n            ",
     "output_type": "error",
     "traceback": [
      "\u001b[31m---------------------------------------------------------------------------\u001b[39m",
      "\u001b[31mZeroDivisionError\u001b[39m                         Traceback (most recent call last)",
      "\u001b[36mCell\u001b[39m\u001b[36m \u001b[39m\u001b[32mIn[10]\u001b[39m\u001b[32m, line 3\u001b[39m\n\u001b[32m      2\u001b[39m \u001b[38;5;28;01mtry\u001b[39;00m:\n\u001b[32m----> \u001b[39m\u001b[32m3\u001b[39m     a=\u001b[32;43m1\u001b[39;49m\u001b[43m/\u001b[49m\u001b[32;43m0\u001b[39;49m\n\u001b[32m      4\u001b[39m     \u001b[38;5;28mprint\u001b[39m(a)\n",
      "\u001b[31mZeroDivisionError\u001b[39m: division by zero",
      "\nDuring handling of the above exception, another exception occurred:\n",
      "\u001b[31mDocumentPortalException\u001b[39m                   Traceback (most recent call last)",
      "\u001b[36mCell\u001b[39m\u001b[36m \u001b[39m\u001b[32mIn[10]\u001b[39m\u001b[32m, line 8\u001b[39m\n\u001b[32m      6\u001b[39m _exception = DocumentPortalException(e,sys)\n\u001b[32m      7\u001b[39m logger.error(_exception)\n\u001b[32m----> \u001b[39m\u001b[32m8\u001b[39m \u001b[38;5;28;01mraise\u001b[39;00m _exception\n",
      "\u001b[31mDocumentPortalException\u001b[39m:  \n            ERROR in [C:\\Users\\KoteswaraRao.Pentyal\\AppData\\Local\\Temp\\ipykernel_20952\\2394279151.py] at line [3]\n            Message: division by zero\n            Traceback:\n            Traceback (most recent call last):\n  File \"C:\\Users\\KoteswaraRao.Pentyal\\AppData\\Local\\Temp\\ipykernel_20952\\2394279151.py\", line 3, in <module>\n    a=1/0\n      ~^~\nZeroDivisionError: division by zero\n\n            "
     ]
    }
   ],
   "source": [
    "if __name__ == \"__main__\":\n",
    "    try:\n",
    "        a=1/0\n",
    "        print(a)\n",
    "    except Exception as e:\n",
    "        _exception = DocumentPortalException(e,sys)\n",
    "        logger.error(_exception)\n",
    "        raise _exception"
   ]
  }
 ],
 "metadata": {
  "kernelspec": {
   "display_name": ".venv",
   "language": "python",
   "name": "python3"
  },
  "language_info": {
   "codemirror_mode": {
    "name": "ipython",
    "version": 3
   },
   "file_extension": ".py",
   "mimetype": "text/x-python",
   "name": "python",
   "nbconvert_exporter": "python",
   "pygments_lexer": "ipython3",
   "version": "3.12.4"
  }
 },
 "nbformat": 4,
 "nbformat_minor": 5
}
