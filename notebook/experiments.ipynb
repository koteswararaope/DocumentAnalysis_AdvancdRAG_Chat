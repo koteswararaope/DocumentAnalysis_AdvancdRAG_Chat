{
 "cells": [
  {
   "cell_type": "code",
   "execution_count": 2,
   "id": "840b4da1",
   "metadata": {},
   "outputs": [
    {
     "name": "stdout",
     "output_type": "stream",
     "text": [
      "all_ok\n"
     ]
    }
   ],
   "source": [
    "print(\"all_ok\")"
   ]
  },
  {
   "cell_type": "code",
   "execution_count": 5,
   "id": "7a2d6e2d",
   "metadata": {},
   "outputs": [],
   "source": [
    "from langchain_groq import ChatGroq\n",
    "from dotenv import load_dotenv"
   ]
  },
  {
   "cell_type": "code",
   "execution_count": 6,
   "id": "658a47c8",
   "metadata": {},
   "outputs": [
    {
     "data": {
      "text/plain": [
       "True"
      ]
     },
     "execution_count": 6,
     "metadata": {},
     "output_type": "execute_result"
    }
   ],
   "source": [
    "load_dotenv()"
   ]
  },
  {
   "cell_type": "code",
   "execution_count": 7,
   "id": "767e6521",
   "metadata": {},
   "outputs": [],
   "source": [
    "model= ChatGroq(model = \"qwen/qwen3-32b\")"
   ]
  },
  {
   "cell_type": "code",
   "execution_count": 8,
   "id": "5a6a7a7d",
   "metadata": {},
   "outputs": [
    {
     "data": {
      "text/plain": [
       "AIMessage(content='<think>\\nOkay, the user is asking \"where is New Delhi?\" I need to provide a clear and concise answer. Let me start by recalling that New Delhi is the capital of India. I should mention its location within India, maybe specify the state it\\'s in, which is Delhi. Wait, but Delhi is actually a union territory, right? So I should clarify that. \\n\\nNext, for someone who might not know much about India\\'s geography, it might help to mention neighboring countries or major cities. For example, it\\'s near the border with Pakistan, but not too close. Maybe mention states around it, like Haryana and Uttar Pradesh. Also, its position in northern India.\\n\\nI should include some geographical coordinates to be precise. Let me check the approximate latitude and longitude. I think it\\'s around 28.6139° N, 77.2090° E. That\\'s correct. Also, the altitude is about 217 meters above sea level.\\n\\nWhat else? New Delhi is part of the National Capital Territory of Delhi. Maybe explain that it\\'s a planned city, designed by architects like Edwin Lutyens and Herbert Baker. The city has a mix of traditional and modern architecture. It\\'s known for historical landmarks like the Red Fort, Qutub Minar, and the India Gate. Also, it\\'s a political and cultural hub.\\n\\nI should also note the population, maybe around 28 million in the metropolitan area. That\\'s a significant number. Transportation-wise, it has a metro system, airports like Indira Gandhi International Airport.\\n\\nWait, the user might be asking for directions or how to get there, but the question is just about the location. So focus on geographical and administrative aspects. Also, mention that it\\'s distinct from Old Delhi, which is the older part of the city.\\n\\nDouble-check if there\\'s any common confusion between New Delhi and Delhi. Sometimes people refer to the entire city as Delhi, but technically, New Delhi is a district within the National Capital Territory of Delhi. Clarify that if necessary.\\n\\nMake sure the answer is accurate, concise, and covers the key points: country, region, nearby areas, geographical coordinates, status as a capital, and maybe some key landmarks. Avoid any unnecessary jargon but provide enough detail for clarity.\\n</think>\\n\\n**New Delhi** is the **capital of India** and serves as the political and administrative center of the country. Here\\'s a detailed overview of its location and key features:\\n\\n1. **Geographical Location**:  \\n   - Located in the **National Capital Territory of Delhi**, which is a **union territory** of India.  \\n   - Situated in **northern India**, near the border with **Pakistan**.  \\n   - Surrounded by the states of **Haryana** (to the west, north, and east) and **Uttar Pradesh** (to the east).  \\n\\n2. **Coordinates**:  \\n   - Latitude: **28.6139° N**  \\n   - Longitude: **77.2090° E**  \\n   - Elevation: Approximately **217 meters (712 feet)** above sea level.  \\n\\n3. **Administrative Context**:  \\n   - New Delhi is a **planned city** designed by British architects **Edwin Lutyens** and **Herbert Baker** during the early 20th century.  \\n   - It is distinct from **Old Delhi**, the historic Mughal-era city, which lies a few kilometers to the north.  \\n\\n4. **Key Features**:  \\n   - **Political Hub**: Home to government institutions like the **Rashtrapati Bhavan** (President\\'s House), **Parliament House**, and **Lok Kala Museum**.  \\n   - **Cultural and Historical Sites**: Includes landmarks such as the **Red Fort**, **Qutub Minar**, **India Gate**, and **Humayun\\'s Tomb**.  \\n   - **Transportation**: Served by **Indira Gandhi International Airport** and a modern **metro system**.  \\n\\n5. **Demographics**:  \\n   - The **Delhi Metropolitan Area** has a population of over **28 million**, making it one of the world\\'s most populous urban regions.  \\n\\nIn summary, New Delhi is a vibrant, historically significant city at the heart of India\\'s governance and culture, strategically located in northern India.', additional_kwargs={}, response_metadata={'token_usage': {'completion_tokens': 905, 'prompt_tokens': 14, 'total_tokens': 919, 'completion_time': 3.7643531059999997, 'prompt_time': 0.007079953, 'queue_time': 0.210146067, 'total_time': 3.771433059}, 'model_name': 'qwen/qwen3-32b', 'system_fingerprint': 'fp_5cf921caa2', 'service_tier': 'on_demand', 'finish_reason': 'stop', 'logprobs': None}, id='run--a5b40072-e730-4e74-93e7-2a137fd38d86-0', usage_metadata={'input_tokens': 14, 'output_tokens': 905, 'total_tokens': 919})"
      ]
     },
     "execution_count": 8,
     "metadata": {},
     "output_type": "execute_result"
    }
   ],
   "source": [
    "model.invoke(\"where is new delhi?\")"
   ]
  },
  {
   "cell_type": "code",
   "execution_count": null,
   "id": "f2c4a70a",
   "metadata": {},
   "outputs": [],
   "source": []
  }
 ],
 "metadata": {
  "kernelspec": {
   "display_name": ".venv",
   "language": "python",
   "name": "python3"
  },
  "language_info": {
   "codemirror_mode": {
    "name": "ipython",
    "version": 3
   },
   "file_extension": ".py",
   "mimetype": "text/x-python",
   "name": "python",
   "nbconvert_exporter": "python",
   "pygments_lexer": "ipython3",
   "version": "3.12.4"
  }
 },
 "nbformat": 4,
 "nbformat_minor": 5
}
