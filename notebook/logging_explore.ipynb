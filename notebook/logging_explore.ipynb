{
 "cells": [
  {
   "cell_type": "code",
   "execution_count": 33,
   "id": "c9759e4b",
   "metadata": {},
   "outputs": [],
   "source": [
    "import logging\n",
    "import os\n",
    "from datetime import datetime"
   ]
  },
  {
   "cell_type": "code",
   "execution_count": 22,
   "id": "541a95ba",
   "metadata": {},
   "outputs": [],
   "source": [
    "log_path = os.path.join(os.getcwd(),\"logs\")"
   ]
  },
  {
   "cell_type": "code",
   "execution_count": 23,
   "id": "f5e43eeb",
   "metadata": {},
   "outputs": [],
   "source": [
    "os.makedirs(\"logs\", exist_ok=True)\n",
    "log_file=f\"{datetime.now().strftime('%m_%d_%Y_%H_%M_%S')}.log\""
   ]
  },
  {
   "cell_type": "code",
   "execution_count": 24,
   "id": "be545ca6",
   "metadata": {},
   "outputs": [],
   "source": [
    "logpath=os.path.join(log_path,log_file)"
   ]
  },
  {
   "cell_type": "code",
   "execution_count": 28,
   "id": "97eeeaa8",
   "metadata": {},
   "outputs": [
    {
     "name": "stdout",
     "output_type": "stream",
     "text": [
      "c:\\Learning\\Python\\LLM_ops\\EndtoEnd\\DocumentAnalysis_AdvancdRAG_Chat\\notebook\\logs\\08_21_2025_15_48_10.log\n"
     ]
    }
   ],
   "source": [
    "print(logpath)"
   ]
  },
  {
   "cell_type": "code",
   "execution_count": null,
   "id": "9316ee64",
   "metadata": {},
   "outputs": [],
   "source": [
    "logging.basicConfig(\n",
    "    filename=logpath,\n",
    "    format=\"[ %(asctime)s ] %(levelname)s %(name)s (line:%(lineno)d) -%(message)s\",\n",
    "    level=logging.INFO,\n",
    "    force=True\n",
    ")"
   ]
  },
  {
   "cell_type": "code",
   "execution_count": 31,
   "id": "029d4782",
   "metadata": {},
   "outputs": [],
   "source": [
    "logger =logging.getLogger(\"DocumentPortal\")"
   ]
  },
  {
   "cell_type": "code",
   "execution_count": 32,
   "id": "c4511626",
   "metadata": {},
   "outputs": [],
   "source": [
    "logger.info(\"test log\")"
   ]
  },
  {
   "cell_type": "code",
   "execution_count": null,
   "id": "f6f76ace",
   "metadata": {},
   "outputs": [],
   "source": [
    "logging."
   ]
  }
 ],
 "metadata": {
  "kernelspec": {
   "display_name": ".venv",
   "language": "python",
   "name": "python3"
  },
  "language_info": {
   "codemirror_mode": {
    "name": "ipython",
    "version": 3
   },
   "file_extension": ".py",
   "mimetype": "text/x-python",
   "name": "python",
   "nbconvert_exporter": "python",
   "pygments_lexer": "ipython3",
   "version": "3.12.4"
  }
 },
 "nbformat": 4,
 "nbformat_minor": 5
}
